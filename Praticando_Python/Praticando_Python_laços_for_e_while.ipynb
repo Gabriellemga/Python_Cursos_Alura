{
  "cells": [
    {
      "cell_type": "markdown",
      "metadata": {
        "id": "view-in-github",
        "colab_type": "text"
      },
      "source": [
        "<a href=\"https://colab.research.google.com/github/Gabriellemga/Python_Cursos_Alura/blob/main/Praticando_Python/Praticando_la%C3%A7os_for_e_while.ipynb\" target=\"_parent\"><img src=\"https://colab.research.google.com/assets/colab-badge.svg\" alt=\"Open In Colab\"/></a>"
      ]
    },
    {
      "cell_type": "markdown",
      "source": [
        "# Praticando Python: laços for e while"
      ],
      "metadata": {
        "id": "PgeiZy-PjSYy"
      }
    },
    {
      "cell_type": "markdown",
      "source": [
        "1-Ana está desenvolvendo um programa que precisa processar uma lista de 5 nomes de clientes para gerar relatórios mensais. Para isso, ela precisa escrever um programa que percorra a lista de nomes e exiba cada cliente.\n"
      ],
      "metadata": {
        "id": "jMTPLrzEczzL"
      }
    },
    {
      "cell_type": "code",
      "execution_count": null,
      "metadata": {
        "colab": {
          "base_uri": "https://localhost:8080/"
        },
        "id": "t9oiw-o6G5oX",
        "outputId": "a8ccd699-2895-4a30-8d5b-dde6d4b14211"
      },
      "outputs": [
        {
          "name": "stdout",
          "output_type": "stream",
          "text": [
            "João\n",
            "Maria\n",
            "Carlos\n",
            "Ana\n",
            "Beatriz\n"
          ]
        }
      ],
      "source": [
        "clientes = [\"João\", \"Maria\", \"Carlos\", \"Ana\", \"Beatriz\"]\n",
        "\n",
        "for cliente in clientes:\n",
        "    print(cliente)"
      ]
    },
    {
      "cell_type": "markdown",
      "metadata": {
        "id": "77PhUDvJIBCW"
      },
      "source": [
        "2-André está testando um novo recurso no backend do Buscante que processa dados em um loop. Durante os testes, ele percebeu que o sistema parou de responder, e suspeita que o problema está em um loop infinito.\n",
        "\n",
        "```\n",
        " contador = 0\n",
        "             \n",
        "  while contador < 10:\n",
        "\n",
        "    print(\"Processando dados...\")\n",
        "```\n",
        "\n",
        "Qual é o problema do código de André e como resolver?"
      ]
    },
    {
      "cell_type": "code",
      "execution_count": null,
      "metadata": {
        "colab": {
          "base_uri": "https://localhost:8080/"
        },
        "id": "H-NXfj05IEA3",
        "outputId": "06c06217-2de3-4036-dbe0-c165d6448f8c"
      },
      "outputs": [
        {
          "name": "stdout",
          "output_type": "stream",
          "text": [
            "Processando dados 0\n",
            "Processando dados 1\n",
            "Processando dados 2\n",
            "Processando dados 3\n",
            "Processando dados 4\n",
            "Processando dados 5\n",
            "Processando dados 6\n",
            "Processando dados 7\n",
            "Processando dados 8\n",
            "Processando dados 9\n"
          ]
        }
      ],
      "source": [
        "contador = 0\n",
        "\n",
        "while contador < 10:\n",
        "    print(f\"Processando dados {contador}\")\n",
        "    contador += 1"
      ]
    },
    {
      "cell_type": "markdown",
      "metadata": {
        "id": "b_aBD2ExI-CG"
      },
      "source": [
        "3-Marcos está desenvolvendo um programa para exibir uma mensagem de boas-vindas repetidamente no console, como parte de uma campanha de marketing de sua plataforma chamada Buscante. Ele quer garantir que a mensagem seja exibida 5 vezes.\n",
        "\n",
        "Ajude Marcos a escrever um programa que exiba a mensagem: \"Bem-vindo ao Buscante!\" o número exato de vezes que ele precisa."
      ]
    },
    {
      "cell_type": "code",
      "execution_count": null,
      "metadata": {
        "colab": {
          "base_uri": "https://localhost:8080/"
        },
        "id": "XSrRQ0FoI_Au",
        "outputId": "0eef2ee7-f532-4773-f196-33008fec2835"
      },
      "outputs": [
        {
          "name": "stdout",
          "output_type": "stream",
          "text": [
            "Bem-vindo ao Buscante!\n",
            "Bem-vindo ao Buscante!\n",
            "Bem-vindo ao Buscante!\n",
            "Bem-vindo ao Buscante!\n",
            "Bem-vindo ao Buscante!\n"
          ]
        }
      ],
      "source": [
        "contador = 0\n",
        "\n",
        "while contador < 5:\n",
        "  print('Bem-vindo ao Buscante!')\n",
        "  contador += 1"
      ]
    },
    {
      "cell_type": "markdown",
      "metadata": {
        "id": "4_9gH7NQJqXm"
      },
      "source": [
        "6-João recebeu uma lista de valores representando as receitas de sua loja de roupas. Ele quer calcular a soma total dessas receitas para entender o desempenho financeiro semanal."
      ]
    },
    {
      "cell_type": "code",
      "execution_count": null,
      "metadata": {
        "colab": {
          "base_uri": "https://localhost:8080/"
        },
        "id": "Kt3aOrG5JsHO",
        "outputId": "ca4cc13f-bc65-4631-dba5-67cd64642363"
      },
      "outputs": [
        {
          "name": "stdout",
          "output_type": "stream",
          "text": [
            "A soma total das receitas:150\n"
          ]
        }
      ],
      "source": [
        "valores = [10, 20, 30, 40, 50]\n",
        "soma = 0\n",
        "\n",
        "for i in valores:\n",
        "    soma += i\n",
        "print(f'A soma total das receitas:{soma}')"
      ]
    },
    {
      "cell_type": "markdown",
      "metadata": {
        "id": "QKr3_UHdKsJ-"
      },
      "source": [
        "7-Ana está desenvolvendo seu portfólio para exibir os projetos de Python que concluiu. Ela organizou uma lista com o nome de cada projeto, mas percebeu que alguns itens podem estar ausentes, aparecendo como None:\n",
        "Crie um programa que ajude Ana a percorrer a lista de projetos e exiba os nomes dos projetos válidos. Se encontrar um item None, o programa deve exibir a mensagem: \"Projeto ausente\"."
      ]
    },
    {
      "cell_type": "code",
      "execution_count": null,
      "metadata": {
        "colab": {
          "base_uri": "https://localhost:8080/"
        },
        "id": "K4LZ9y6BKw-O",
        "outputId": "46d0b6ed-db63-409d-f119-e2e9dde67381"
      },
      "outputs": [
        {
          "name": "stdout",
          "output_type": "stream",
          "text": [
            "website\n",
            "jogo\n",
            "análise de dados\n",
            "Projeto ausente\n",
            "aplicativo móvel\n"
          ]
        }
      ],
      "source": [
        "projetos = [\"website\", \"jogo\", \"análise de dados\", None, \"aplicativo móvel\"]\n",
        "\n",
        "for projeto in projetos:\n",
        "    if projeto == None:\n",
        "       print('Projeto ausente')\n",
        "       continue\n",
        "    print(projeto)"
      ]
    },
    {
      "cell_type": "markdown",
      "metadata": {
        "id": "owiPRh5ugtpG"
      },
      "source": [
        "8-José está desenvolvendo uma funcionalidade no sistema do Buscante para interromper a busca assim que um livro específico é encontrado. A lista de livros já cadastrados no sistema é a seguinte:\n",
        "\n",
        "```livros = [\"1984\", \"Dom Casmurro\", \"O Pequeno Príncipe\", \"O Hobbit\", \"Orgulho e Preconceito\"]```\n",
        "\n",
        "Ajude José a criar um programa que percorra a lista e exiba a mensagem \"Livro encontrado: <nome do livro>\" assim que o livro \"O Hobbit\" for encontrado. Após encontrar o livro, o programa deve parar imediatamente a busca, sem verificar os livros restantes."
      ]
    },
    {
      "cell_type": "code",
      "execution_count": null,
      "metadata": {
        "colab": {
          "base_uri": "https://localhost:8080/"
        },
        "id": "zyzZjqqBgzIu",
        "outputId": "a58e1b30-243b-42cd-fd34-a52af4f75b1d"
      },
      "outputs": [
        {
          "name": "stdout",
          "output_type": "stream",
          "text": [
            "Livro encontrado:O Hobbit\n"
          ]
        }
      ],
      "source": [
        "livros = [\"1984\", \"Dom Casmurro\", \"O Pequeno Príncipe\", \"O Hobbit\", \"Orgulho e Preconceito\"]\n",
        "\n",
        "for livro in livros:\n",
        "    if livro == 'O Hobbit':\n",
        "      print(f'Livro encontrado:{livro}')\n",
        "      break\n"
      ]
    },
    {
      "cell_type": "markdown",
      "metadata": {
        "id": "KQ_rlZzDjVIP"
      },
      "source": [
        "9-Você está desenvolvendo um sistema de controle de estoque para o Buscante. Um dos requisitos é verificar a quantidade de exemplares de um livro em estoque e continuar vendendo até que o estoque se esgote. Sempre que uma venda é realizada, o sistema deve informar o usuário e atualizar a quantidade disponível.\n",
        "\n",
        "Crie um programa que simule as vendas de um livro com o estoque inicial de 5 exemplares. O programa deve exibir a mensagem \"Venda realizada! Estoque restante: <quantidade>\" a cada venda e, ao final, exibir a mensagem \"Estoque esgotado\"."
      ]
    },
    {
      "cell_type": "code",
      "execution_count": 1,
      "metadata": {
        "colab": {
          "base_uri": "https://localhost:8080/"
        },
        "id": "leLtcizljV_2",
        "outputId": "0bab3f53-e803-493a-81ba-6862750b0829"
      },
      "outputs": [
        {
          "output_type": "stream",
          "name": "stdout",
          "text": [
            "Iforme a quantidade do livro em estoque: 5\n",
            "Venda realizada!Estoque restante: 5\n",
            "Venda realizada!Estoque restante: 4\n",
            "Venda realizada!Estoque restante: 3\n",
            "Venda realizada!Estoque restante: 2\n",
            "Venda realizada!Estoque restante: 1\n",
            "Estoque esgotado.\n"
          ]
        }
      ],
      "source": [
        "estoque = int(input('Iforme a quantidade do livro em estoque: '))\n",
        "contador = estoque\n",
        "\n",
        "while contador > 0:\n",
        "   print(f'Venda realizada!Estoque restante: {contador}')\n",
        "   contador -= 1\n",
        "   if contador == 0:\n",
        "    print('Estoque esgotado.')"
      ]
    },
    {
      "cell_type": "markdown",
      "source": [
        "10-Aline está implementando uma funcionalidade que exibe mensagens personalizadas para os clientes durante uma promoção especial da sua nova loja de livros. O sistema deve exibir uma mensagem de contagem regressiva personalizada para cada número de 10 até 1, e ao final exibir a mensagem: \"Aproveite a promoção agora!\".\n",
        "\n",
        "Crie um programa que utilize um laço for para exibir as seguintes mensagens:\n",
        "\n",
        "Para números pares, exiba: \"Faltam apenas <número> segundos - Não perca essa oportunidade!\".\n",
        "\n",
        "Para números ímpares, exiba: \"A contagem continua: <número> segundos restantes.\".\n",
        "\n",
        "Ao final da contagem, exiba a mensagem: \"Aproveite a promoção agora!\"."
      ],
      "metadata": {
        "id": "5ipwsZBbFfJA"
      }
    },
    {
      "cell_type": "code",
      "source": [
        "for numero in range(10,0,-1):\n",
        "    if numero%2 == 0:\n",
        "      print(f'Faltam apenas {numero} segundos-Não perca essa oportunidade!')\n",
        "    elif numero%2 != 0:\n",
        "      print(f'A contagem continua {numero} segundos restantes')\n",
        "print('Aproveite a promoção agora.')"
      ],
      "metadata": {
        "colab": {
          "base_uri": "https://localhost:8080/"
        },
        "id": "Rs-X1zLjF213",
        "outputId": "8cc6d2ac-27bd-4c80-e333-de29dac829cc"
      },
      "execution_count": null,
      "outputs": [
        {
          "output_type": "stream",
          "name": "stdout",
          "text": [
            "Faltam apenas 10 segundos-Não perca essa oportunidade!\n",
            "A contagem continua 9 segundos restantes\n",
            "Faltam apenas 8 segundos-Não perca essa oportunidade!\n",
            "A contagem continua 7 segundos restantes\n",
            "Faltam apenas 6 segundos-Não perca essa oportunidade!\n",
            "A contagem continua 5 segundos restantes\n",
            "Faltam apenas 4 segundos-Não perca essa oportunidade!\n",
            "A contagem continua 3 segundos restantes\n",
            "Faltam apenas 2 segundos-Não perca essa oportunidade!\n",
            "A contagem continua 1 segundos restantes\n",
            "Aproveite a promoção agora\n"
          ]
        }
      ]
    },
    {
      "cell_type": "markdown",
      "source": [
        "11-Ana está implementando um sistema de filtragem de livros no Buscante. A funcionalidade deve percorrer uma lista de livros e exibir o nome de cada livro disponível em estoque. No entanto, se o livro estiver esgotado, ele deve ser ignorado durante a iteração.\n",
        "Crie um programa que ajude Ana a exibir somente os livros que possuem estoque disponível, no formato: \"Livro disponível: \"."
      ],
      "metadata": {
        "id": "cDxobn-cGDce"
      }
    },
    {
      "cell_type": "code",
      "source": [
        "livros = [\n",
        "    {\"nome\": \"1984\", \"estoque\": 5},\n",
        "    {\"nome\": \"Dom Casmurro\", \"estoque\": 0},\n",
        "    {\"nome\": \"O Pequeno Príncipe\", \"estoque\": 3},\n",
        "    {\"nome\": \"O Hobbit\", \"estoque\": 0},\n",
        "    {\"nome\": \"Orgulho e Preconceito\", \"estoque\": 2}\n",
        "]\n",
        "\n",
        "for livro in livros:\n",
        "  if livro['estoque'] != 0:\n",
        "    print(f'Livro disponível: {livro[\"nome\"]}')"
      ],
      "metadata": {
        "colab": {
          "base_uri": "https://localhost:8080/"
        },
        "id": "AlYPsmMKGIYP",
        "outputId": "8f9ca358-c38f-4068-bdc0-30cf39a0bca1"
      },
      "execution_count": null,
      "outputs": [
        {
          "output_type": "stream",
          "name": "stdout",
          "text": [
            "Livro disponível: 1984\n",
            "Livro disponível: O Pequeno Príncipe\n",
            "Livro disponível: Orgulho e Preconceito\n"
          ]
        }
      ]
    },
    {
      "cell_type": "markdown",
      "source": [
        "11-João está desenvolvendo um sistema de cadastro para um site de leitura. Ele precisa garantir que os usuários insiram um nome de usuário e uma senha válidos. As regras são as seguintes:\n",
        "\n",
        "O nome de usuário deve ter pelo menos 5 caracteres.\n",
        "\n",
        "A senha deve ter pelo menos 8 caracteres.\n",
        "\n",
        "João quer que o sistema continue solicitando as informações até que ambas as condições sejam atendidas. Quando o usuário insere dados válidos, o programa deve exibir a mensagem: \"Cadastro realizado com sucesso!\".\n",
        "\n",
        "Crie um programa que implemente essa lógica usando um laço while."
      ],
      "metadata": {
        "id": "QNsNOAnTI-T2"
      }
    },
    {
      "cell_type": "code",
      "source": [
        "while True:\n",
        "   usuario = input('Informe o nome de usuário: ')\n",
        "   senha = input('Informe a sua senha: ')\n",
        "   if len(usuario) < 5:\n",
        "      print('O nome de usuário deve ter pelo menos 5 caracteres')\n",
        "      continue\n",
        "   elif len(senha) < 8:\n",
        "      print('A senha deve ter pelo menos 8 caracteres.')\n",
        "      continue\n",
        "   else:\n",
        "      print('Cadastro realizado com sucesso!')\n",
        "   break\n",
        "\n"
      ],
      "metadata": {
        "colab": {
          "base_uri": "https://localhost:8080/"
        },
        "id": "meT528YUJ2dV",
        "outputId": "fcb7caf7-1254-4997-b920-4382305c2bf9"
      },
      "execution_count": null,
      "outputs": [
        {
          "output_type": "stream",
          "name": "stdout",
          "text": [
            "Informe o nome de usuário: user\n",
            "Informe a sua senha: 123\n",
            "O nome de usuário deve ter pelo menos 5 caracteres\n",
            "Informe o nome de usuário: user22\n",
            "Informe a sua senha: 123\n",
            "A senha deve ter pelo menos 8 caracteres.\n",
            "Informe o nome de usuário: user22\n",
            "Informe a sua senha: 12345678\n",
            "Cadastro realizado com sucesso!\n"
          ]
        }
      ]
    }
  ],
  "metadata": {
    "colab": {
      "provenance": [],
      "authorship_tag": "ABX9TyNRzV8YIy+LkTqOU9+f+T/k",
      "include_colab_link": true
    },
    "kernelspec": {
      "display_name": "Python 3",
      "name": "python3"
    },
    "language_info": {
      "name": "python"
    }
  },
  "nbformat": 4,
  "nbformat_minor": 0
}
